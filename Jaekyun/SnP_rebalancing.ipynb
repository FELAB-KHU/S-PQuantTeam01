{
 "cells": [
  {
   "cell_type": "code",
   "execution_count": 13,
   "metadata": {},
   "outputs": [],
   "source": [
    "import pandas as pd"
   ]
  },
  {
   "cell_type": "code",
   "execution_count": 14,
   "metadata": {},
   "outputs": [],
   "source": [
    "new_market = pd.read_csv('./new_market.csv')"
   ]
  },
  {
   "cell_type": "code",
   "execution_count": 15,
   "metadata": {},
   "outputs": [],
   "source": [
    "new_market['portfolio_value'] = None"
   ]
  },
  {
   "cell_type": "code",
   "execution_count": 16,
   "metadata": {},
   "outputs": [
    {
     "data": {
      "text/plain": [
       "0    10000.000000\n",
       "1     9927.705008\n",
       "2     9910.896654\n",
       "3    10034.582108\n",
       "4    10059.932739\n",
       "dtype: float64"
      ]
     },
     "execution_count": 16,
     "metadata": {},
     "output_type": "execute_result"
    }
   ],
   "source": [
    "initial_investment = 10000\n",
    "\n",
    "num_stocks = 485\n",
    "\n",
    "a = []\n",
    "\n",
    "# 각 주식 종목의 일별 주가 변화율 계산\n",
    "for column in new_market.columns[1:]:  # 첫 번째 열(날짜)을 제외하고 계산\n",
    "    daily_return = (new_market[column] - new_market[column].shift(1)) / new_market[column].shift(1)\n",
    "    investment_return = daily_return * (initial_investment / num_stocks)\n",
    "    a.append(investment_return)\n",
    "\n",
    "# NaN 값 처리 및 포트폴리오 가치 계산\n",
    "portfolio_values = pd.DataFrame(a).sum().fillna(0)\n",
    "\n",
    "# 첫 번째 행의 'portfolio_value'는 초기 투자 금액으로 설정\n",
    "portfolio_values.iloc[0] = initial_investment\n",
    "\n",
    "# 이후 행들에 대해 누적 합산을 사용하여 포트폴리오 가치 계산\n",
    "for i in range(1, len(portfolio_values)):\n",
    "    portfolio_values.iloc[i] += portfolio_values.iloc[i - 1]\n",
    "\n",
    "# 결과 확인\n",
    "portfolio_values.head()  # 계산된 portfolio_values의 첫 5개 값을 확인합니다."
   ]
  },
  {
   "cell_type": "code",
   "execution_count": 17,
   "metadata": {},
   "outputs": [],
   "source": [
    "new_market['portfolio_value'] = portfolio_values.values"
   ]
  },
  {
   "cell_type": "code",
   "execution_count": null,
   "metadata": {},
   "outputs": [],
   "source": [
    "from datetime import datetime, timedelta\n",
    "import calendar\n",
    "\n",
    "def find_next_valid_date(df, start_date):\n",
    "    \"\"\"\n",
    "    주어진 날짜로부터 3개월 후의 유효한 날짜를 찾는 함수.\n",
    "    만약 3개월 후의 그 날짜가 없으면, 이후의 유효한 날짜를 찾는다.\n",
    "    \"\"\"\n",
    "    # 시작 날짜를 datetime 객체로 변환\n",
    "    current_date = datetime.strptime(start_date, \"%Y-%m-%d\")\n",
    "\n",
    "    # 3개월 뒤 날짜 계산\n",
    "    month = current_date.month - 1 + 3\n",
    "    year = current_date.year + month // 12\n",
    "    month = month % 12 + 1\n",
    "    day = 1\n",
    "\n",
    "    # 유효한 날짜 찾기\n",
    "    while True:\n",
    "        try:\n",
    "            next_date = datetime(year, month, day).strftime(\"%Y-%m-%d\")\n",
    "            if next_date in df['pricingDate'].values:\n",
    "                return next_date\n",
    "            else:\n",
    "                day += 1\n",
    "        except ValueError:\n",
    "            # 해당 월에 day가 없는 경우 (예: 2월 30일)\n",
    "            day = 1\n",
    "            month += 1\n",
    "\n"
   ]
  }
 ],
 "metadata": {
  "kernelspec": {
   "display_name": "base",
   "language": "python",
   "name": "python3"
  },
  "language_info": {
   "codemirror_mode": {
    "name": "ipython",
    "version": 3
   },
   "file_extension": ".py",
   "mimetype": "text/x-python",
   "name": "python",
   "nbconvert_exporter": "python",
   "pygments_lexer": "ipython3",
   "version": "3.11.5"
  },
  "orig_nbformat": 4
 },
 "nbformat": 4,
 "nbformat_minor": 2
}
