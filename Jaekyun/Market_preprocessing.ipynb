{
 "cells": [
  {
   "cell_type": "markdown",
   "metadata": {},
   "source": [
    "# **SnP Market Pre-processing**"
   ]
  },
  {
   "cell_type": "code",
   "execution_count": 1,
   "metadata": {},
   "outputs": [],
   "source": [
    "#SnP 데이터\n",
    "import pandas as pd\n",
    "\n",
    "SnP500 = pd.read_csv('/Users/jaekyunpark/Library/CloudStorage/OneDrive-경희대학교/JaekyunPark/S&P data/SnP500구성종목_wikipedia.csv')\n",
    "\n",
    "columns_to_read = ['pricingDate', 'tickerSymbol', 'ISOCode', 'priceClose', 'divAdjFactor']\n",
    "market1 = pd.read_parquet('/Users/jaekyunpark/Library/CloudStorage/OneDrive-경희대학교/JaekyunPark/S&P data/market1.parquet', columns=columns_to_read)\n",
    "market2 = pd.read_parquet('/Users/jaekyunpark/Library/CloudStorage/OneDrive-경희대학교/JaekyunPark/S&P data/market2.parquet', columns=columns_to_read)\n",
    "market3 = pd.read_parquet('/Users/jaekyunpark/Library/CloudStorage/OneDrive-경희대학교/JaekyunPark/S&P data/market3.parquet', columns=columns_to_read)\n",
    "market4 = pd.read_parquet('/Users/jaekyunpark/Library/CloudStorage/OneDrive-경희대학교/JaekyunPark/S&P data/market4.parquet', columns=columns_to_read)"
   ]
  },
  {
   "cell_type": "code",
   "execution_count": null,
   "metadata": {},
   "outputs": [],
   "source": [
    "# 'ISOCode' 열에 있는 고유한 값들을 확인\n",
    "unique_iso_codes = market1['ISOCode'].unique()\n",
    "\n",
    "# 결과 출력\n",
    "print(unique_iso_codes)"
   ]
  },
  {
   "cell_type": "code",
   "execution_count": null,
   "metadata": {},
   "outputs": [],
   "source": [
    "# 'ISOCode'가 'USD'인 행들만 유지\n",
    "market1_usd = market1[market1['ISOCode'] == 'USD']\n",
    "market2_usd = market2[market2['ISOCode'] == 'USD'] \n",
    "market3_usd = market3[market3['ISOCode'] == 'USD'] \n",
    "market4_usd = market4[market4['ISOCode'] == 'USD']"
   ]
  },
  {
   "cell_type": "code",
   "execution_count": null,
   "metadata": {},
   "outputs": [],
   "source": [
    "#SnP 구성 종목들만 필터링\n",
    "snP500_symbols = SnP500['Symbol'].unique()\n",
    "market1_filtered = market1_usd[market1_usd['tickerSymbol'].isin(snP500_symbols)]\n",
    "market2_filtered = market2_usd[market2_usd['tickerSymbol'].isin(snP500_symbols)]\n",
    "market3_filtered = market3_usd[market3_usd['tickerSymbol'].isin(snP500_symbols)]\n",
    "market4_filtered = market4_usd[market4_usd['tickerSymbol'].isin(snP500_symbols)]\n",
    "\n",
    "#데이터프레임 병합\n",
    "merged_market_data = pd.concat([market1_filtered, market2_filtered, market3_filtered, market4_filtered])"
   ]
  },
  {
   "cell_type": "code",
   "execution_count": null,
   "metadata": {},
   "outputs": [],
   "source": [
    "#결측치 확인(없음)\n",
    "missing_price_data = merged_market_data[merged_market_data['priceClose'].isna()]\n",
    "\n",
    "print(missing_price_data)"
   ]
  },
  {
   "cell_type": "code",
   "execution_count": null,
   "metadata": {},
   "outputs": [],
   "source": [
    "# 수정종가 열 추가\n",
    "# divadjfactor가 nan값인 경우 수정종가 계산이 안되는 문제가 있음. 이를 해결하기 위해 divadjfactor가 nan값인 경우 1로 대체\n",
    "merged_market_data['divAdjFactor'].fillna(1, inplace=True)\n",
    "merged_market_data['adjpriceClose'] = merged_market_data['priceClose'] * merged_market_data['divAdjFactor']\n",
    "# 필요없는 열 삭제\n",
    "merged_market_data = merged_market_data.drop(columns=['priceClose', 'divAdjFactor'])"
   ]
  },
  {
   "cell_type": "code",
   "execution_count": null,
   "metadata": {},
   "outputs": [],
   "source": [
    "merged_market_data.to_csv('/Users/jaekyunpark/Library/CloudStorage/OneDrive-경희대학교/JaekyunPark/S&P data/merged_market_data.csv', index=False)"
   ]
  },
  {
   "cell_type": "code",
   "execution_count": null,
   "metadata": {},
   "outputs": [],
   "source": [
    "# merged_market_data 종목 수\n",
    "unique_ticker_symbols = merged_market_data['tickerSymbol'].nunique()\n",
    "unique_ticker_symbols"
   ]
  },
  {
   "cell_type": "code",
   "execution_count": null,
   "metadata": {},
   "outputs": [],
   "source": [
    "# merged_market_data 재정렬 후 기간 맞춤\n",
    "\n",
    "a = merged_market_data.pivot_table(index='pricingDate', columns='tickerSymbol', values='adjpriceClose' ,aggfunc='first')\n",
    "a = a['2018-05-01':'2023-10-31']\n",
    "a"
   ]
  },
  {
   "cell_type": "code",
   "execution_count": null,
   "metadata": {},
   "outputs": [],
   "source": [
    "# 각 column별 nan값 확인\n",
    "# nan값은 평균 178개를 고정적으로 가지고 있는 column이 많음. (480종목)\n",
    "\n",
    "a.isnull().sum()"
   ]
  },
  {
   "cell_type": "code",
   "execution_count": null,
   "metadata": {},
   "outputs": [],
   "source": [
    "#nan값이 178이상인 종목들을 drop\n",
    "\n",
    "nan_counts = a.isna().sum()\n",
    "\n",
    "columns_to_drop = nan_counts[nan_counts > 178].index.tolist()\n",
    "\n",
    "a_filtered = a.drop(columns=columns_to_drop)\n",
    "\n",
    "a_filtered"
   ]
  },
  {
   "cell_type": "code",
   "execution_count": null,
   "metadata": {},
   "outputs": [],
   "source": [
    "# NaN값이 178개 이상인 종목들을 drop한 후 저장\n",
    "# 일단 최종적으로 SnP500 지수는 총 485종목을 볼 것임\n",
    "# 5년의 기간에서 178일을 제거\n",
    "\n",
    "a_filtered = a_filtered.dropna(axis=0)\n",
    "a_filtered.to_csv('/Users/jaekyunpark/Documents/GitHub/S-PQuantTeam01/new_market.csv')\n",
    "a_filtered"
   ]
  }
 ],
 "metadata": {
  "kernelspec": {
   "display_name": "base",
   "language": "python",
   "name": "python3"
  },
  "language_info": {
   "codemirror_mode": {
    "name": "ipython",
    "version": 3
   },
   "file_extension": ".py",
   "mimetype": "text/x-python",
   "name": "python",
   "nbconvert_exporter": "python",
   "pygments_lexer": "ipython3",
   "version": "3.11.5"
  },
  "orig_nbformat": 4
 },
 "nbformat": 4,
 "nbformat_minor": 2
}
