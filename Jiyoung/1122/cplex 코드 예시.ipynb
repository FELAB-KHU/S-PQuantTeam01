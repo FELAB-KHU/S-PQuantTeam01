{
 "cells": [
  {
   "cell_type": "code",
   "execution_count": 1,
   "metadata": {},
   "outputs": [
    {
     "name": "stdout",
     "output_type": "stream",
     "text": [
      "Collecting cplex\n",
      "  Downloading cplex-22.1.1.0-cp39-cp39-win_amd64.whl (26.4 MB)\n",
      "Installing collected packages: cplex\n",
      "Successfully installed cplex-22.1.1.0\n",
      "Note: you may need to restart the kernel to use updated packages.\n"
     ]
    },
    {
     "name": "stderr",
     "output_type": "stream",
     "text": [
      "WARNING: You are using pip version 21.2.4; however, version 23.3.1 is available.\n",
      "You should consider upgrading via the 'c:\\Users\\Yoojiyoung\\AppData\\Local\\Programs\\Python\\Python39\\python.exe -m pip install --upgrade pip' command.\n"
     ]
    }
   ],
   "source": [
    "pip install cplex"
   ]
  },
  {
   "cell_type": "code",
   "execution_count": 3,
   "metadata": {},
   "outputs": [],
   "source": [
    "import cplex as cp"
   ]
  },
  {
   "cell_type": "code",
   "execution_count": 4,
   "metadata": {},
   "outputs": [],
   "source": [
    "# cplex 객체\n",
    "problem = cp.Cplex()"
   ]
  },
  {
   "cell_type": "code",
   "execution_count": 5,
   "metadata": {},
   "outputs": [
    {
     "data": {
      "text/plain": [
       "<cplex.Cplex at 0x24d8a2c9070>"
      ]
     },
     "execution_count": 5,
     "metadata": {},
     "output_type": "execute_result"
    }
   ],
   "source": [
    "problem"
   ]
  },
  {
   "cell_type": "code",
   "execution_count": 6,
   "metadata": {},
   "outputs": [],
   "source": [
    "# 목적함수의 최적화 방향 설정 \n",
    "# min 인지 max 인지\n",
    "problem.objective.set_sense(problem.objective.sense.maximize)  # 최대화"
   ]
  },
  {
   "cell_type": "code",
   "execution_count": 8,
   "metadata": {},
   "outputs": [
    {
     "data": {
      "text/plain": [
       "range(0, 2)"
      ]
     },
     "execution_count": 8,
     "metadata": {},
     "output_type": "execute_result"
    }
   ],
   "source": [
    "# 변수 추가\n",
    "# 예 : 2개 변수 x1, x2\n",
    "problem.variables.add(names = ['x1', 'x2'])"
   ]
  },
  {
   "cell_type": "code",
   "execution_count": 10,
   "metadata": {},
   "outputs": [],
   "source": [
    "# 목적함수에서 변수들의 계수 설정\n",
    "# 예 : 1x1, 2x2\n",
    "problem.objective.set_linear([('x1', 1.0), ('x2', 2.0)])"
   ]
  },
  {
   "cell_type": "code",
   "execution_count": 13,
   "metadata": {},
   "outputs": [
    {
     "data": {
      "text/plain": [
       "range(0, 1)"
      ]
     },
     "execution_count": 13,
     "metadata": {},
     "output_type": "execute_result"
    }
   ],
   "source": [
    "# 제약 조건 추가\n",
    "# 예 : x1 + x2 <= 10\n",
    "problem.linear_constraints.add(\n",
    "    lin_expr = [cp.SparsePair(ind = ['x1', 'x2'], val = [1.0, 1.0])], #  SparsePair 객체는 제약 조건에 포함될 변수들(ind)과 각 변수의 계수(val)를 지정, 1.0*x1 + 1.0*x2\n",
    "    senses = ['L'],      # 제약조건의 감각, 'L' : 이하 / 'G' : 이상 / 'E' : 동일\n",
    "    rhs = [10]   # rhs = right hand side (우변), 제약조건의 우변 값을 설정\n",
    ")"
   ]
  },
  {
   "cell_type": "code",
   "execution_count": 14,
   "metadata": {},
   "outputs": [
    {
     "name": "stdout",
     "output_type": "stream",
     "text": [
      "Version identifier: 22.1.1.0 | 2023-02-09 | 22d6266e5\n",
      "CPXPARAM_Read_DataCheck                          1\n",
      "Tried aggregator 1 time.\n",
      "LP Presolve eliminated 1 rows and 2 columns.\n",
      "All rows and columns eliminated.\n",
      "Presolve time = 0.00 sec. (0.00 ticks)\n"
     ]
    }
   ],
   "source": [
    "# CPLEX를 사용하여 문제 해결\n",
    "problem.solve()"
   ]
  },
  {
   "cell_type": "code",
   "execution_count": 15,
   "metadata": {},
   "outputs": [
    {
     "name": "stdout",
     "output_type": "stream",
     "text": [
      "Solution status = 1\n",
      "Solution value  = 20.0\n"
     ]
    }
   ],
   "source": [
    "# 최적해 결과 출력\n",
    "sol = problem.solution\n",
    "\n",
    "# 문제 해결의 상태 출력 \n",
    "#   최적으로 해결(1)되었는지, \n",
    "#   불가능한 상태(3)인지, \n",
    "#   문제가 무한(2)한지, \n",
    "#   문제가 무한하거나 불가능(4)한지, \n",
    "#   실행 가능한 해가 찾아졌으나 최적화되지 않았는지(5), \n",
    "#   수치적으로 최선의 해지만 확신할 수 없는 상태(6)인지 등을 나타냄\n",
    "print(\"Solution status =\", sol.get_status())  \n",
    "\n",
    "# 최적해 출력, 최적화된 목적함수 값 출력\n",
    "print(\"Solution value  =\", sol.get_objective_value())"
   ]
  },
  {
   "cell_type": "code",
   "execution_count": 16,
   "metadata": {},
   "outputs": [
    {
     "name": "stdout",
     "output_type": "stream",
     "text": [
      "Variable x1: Value = 0\n",
      "Variable x2: Value = 10\n"
     ]
    }
   ],
   "source": [
    "# 변수들의 값 출력\n",
    "numcols = problem.variables.get_num() # 최적화 문제에 사용된 변수 갯수를 numcols에 저장\n",
    "for i in range(numcols): # 모든 변수 순회하여\n",
    "    # 각 반복에서 특정변수의 이름과 그 변수에 대한 최적해 값 출력\n",
    "    print(\"Variable %s: Value = %g\" % (problem.variables.get_names(i), sol.get_values(i)))\n",
    "        # %s : 문자열 형태, %g : 실수 형태  # i번째 변수 이름 반환        # i번째 변수의 최적해 값 반환"
   ]
  },
  {
   "cell_type": "code",
   "execution_count": null,
   "metadata": {},
   "outputs": [],
   "source": []
  }
 ],
 "metadata": {
  "kernelspec": {
   "display_name": "Python 3",
   "language": "python",
   "name": "python3"
  },
  "language_info": {
   "codemirror_mode": {
    "name": "ipython",
    "version": 3
   },
   "file_extension": ".py",
   "mimetype": "text/x-python",
   "name": "python",
   "nbconvert_exporter": "python",
   "pygments_lexer": "ipython3",
   "version": "3.9.8"
  }
 },
 "nbformat": 4,
 "nbformat_minor": 2
}
