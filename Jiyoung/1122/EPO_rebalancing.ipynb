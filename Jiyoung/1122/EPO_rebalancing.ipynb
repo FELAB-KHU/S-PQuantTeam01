{
 "cells": [
  {
   "cell_type": "code",
   "execution_count": 1,
   "metadata": {},
   "outputs": [],
   "source": [
    "# 리밸런싱 \n",
    "# out-of-sample에서 리밸런싱 우선\n",
    "# 매달 리밸런싱 진행\n",
    "    # 리밸런싱은 해당 기간 최적화 돌려서 나온 비중을 갖고 매달 진행.\n",
    "    # 1. (out of sample 기간) 2023.05.01에 투자를 시작할 때 과거 5년치 데이터로 최적화 문제 풀고, 다음 한달간 수익률 보기. \n",
    "    # 그리고 2023.06.01에 시작할 때는 그때까지 데이터로 최적화 풀고, \n",
    "    # 나온 가중치로 리밸런싱 하고 한달간 수익률 보기… \n",
    "    # 반복\n",
    "# 2. look back 기간을 1년, 2년, 등 여러 기간으로 설정하고 돌려보기."
   ]
  },
  {
   "cell_type": "code",
   "execution_count": 2,
   "metadata": {},
   "outputs": [],
   "source": [
    "import pandas as pd\n",
    "import numpy as np\n",
    "from pypfopt.efficient_frontier import EfficientFrontier\n",
    "from pypfopt import risk_models\n",
    "from pypfopt import expected_returns"
   ]
  },
  {
   "cell_type": "code",
   "execution_count": 3,
   "metadata": {},
   "outputs": [],
   "source": [
    "# 예시 데이터\n",
    "# # 자산별 현재 가격과 포트폴리오 내 비중\n",
    "# current_prices = {\"Asset1\": 100, \"Asset2\": 200, \"Asset3\": 300}\n",
    "# current_weights = {\"Asset1\": 0.4, \"Asset2\": 0.4, \"Asset3\": 0.2}\n",
    "\n",
    "# # 자산별 과거 가격 데이터 (예시)\n",
    "# price_data = {\n",
    "#     \"Asset1\": [95, 100, 105],\n",
    "#     \"Asset2\": [195, 200, 205],\n",
    "#     \"Asset3\": [295, 300, 305]\n",
    "# }\n",
    "# price_df = pd.DataFrame(price_data)\n",
    "\n",
    "# # 수익률과 공분산 행렬 계산\n",
    "# mu = expected_returns.mean_historical_return(price_df)\n",
    "# S = risk_models.sample_cov(price_df)\n",
    "\n",
    "# # 효율적인 프론티어 계산\n",
    "# ef = EfficientFrontier(mu, S)\n",
    "# weights = ef.max_sharpe()\n",
    "\n",
    "# # 새로운 자산 배분\n",
    "# new_weights = {k: weights[k] for k in current_weights.keys()}\n",
    "\n",
    "# # 리밸런싱 필요 금액 계산\n",
    "# portfolio_value = sum(current_prices[k] * current_weights[k] for k in current_prices)\n",
    "# new_allocation = {k: portfolio_value * new_weights[k] for k in new_weights}\n",
    "# rebalancing_trades = {k: new_allocation[k] - current_prices[k] * current_weights[k] for k in current_prices}\n",
    "\n",
    "# print(\"새로운 자산 배분:\", new_weights)\n",
    "# print(\"리밸런싱을 위한 거래:\", rebalancing_trades)"
   ]
  },
  {
   "cell_type": "code",
   "execution_count": null,
   "metadata": {},
   "outputs": [],
   "source": []
  }
 ],
 "metadata": {
  "kernelspec": {
   "display_name": "Python 3",
   "language": "python",
   "name": "python3"
  },
  "language_info": {
   "codemirror_mode": {
    "name": "ipython",
    "version": 3
   },
   "file_extension": ".py",
   "mimetype": "text/x-python",
   "name": "python",
   "nbconvert_exporter": "python",
   "pygments_lexer": "ipython3",
   "version": "3.9.8"
  }
 },
 "nbformat": 4,
 "nbformat_minor": 2
}
